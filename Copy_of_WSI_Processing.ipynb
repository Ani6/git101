{
  "nbformat": 4,
  "nbformat_minor": 0,
  "metadata": {
    "colab": {
      "name": "Copy of WSI_Processing.ipynb",
      "provenance": [],
      "collapsed_sections": [],
      "include_colab_link": true
    },
    "kernelspec": {
      "name": "python3",
      "display_name": "Python 3"
    }
  },
  "cells": [
    {
      "cell_type": "markdown",
      "metadata": {
        "id": "view-in-github",
        "colab_type": "text"
      },
      "source": [
        "<a href=\"https://colab.research.google.com/github/Ani6/git101/blob/master/Copy_of_WSI_Processing.ipynb\" target=\"_parent\"><img src=\"https://colab.research.google.com/assets/colab-badge.svg\" alt=\"Open In Colab\"/></a>"
      ]
    },
    {
      "cell_type": "code",
      "metadata": {
        "id": "j6KBWFvn_pqU",
        "colab_type": "code",
        "colab": {
          "base_uri": "https://localhost:8080/",
          "height": 1000
        },
        "outputId": "b759431d-44b7-40bd-ddcd-6ec00de1d3e1"
      },
      "source": [
        "from IPython.display import Image\n",
        "\n",
        "# Download necessary dependencies\n",
        "!apt-get install openslide\n",
        "!apt-get install openslide-tools\n",
        "!apt-get install python3-openslide\n",
        "#!git clone https://github.com/zhaoxuanma/Deeplearning-digital-pathology.git\n",
        "\n",
        "# To view SVS information\n",
        "!apt install imagemagick\n"
      ],
      "execution_count": 3,
      "outputs": [
        {
          "output_type": "stream",
          "text": [
            "Reading package lists... Done\n",
            "Building dependency tree       \n",
            "Reading state information... Done\n",
            "E: Unable to locate package openslide\n",
            "Reading package lists... Done\n",
            "Building dependency tree       \n",
            "Reading state information... Done\n",
            "openslide-tools is already the newest version (3.4.1+dfsg-2).\n",
            "The following package was automatically installed and is no longer required:\n",
            "  libnvidia-common-440\n",
            "Use 'apt autoremove' to remove it.\n",
            "0 upgraded, 0 newly installed, 0 to remove and 35 not upgraded.\n",
            "Reading package lists... Done\n",
            "Building dependency tree       \n",
            "Reading state information... Done\n",
            "The following package was automatically installed and is no longer required:\n",
            "  libnvidia-common-440\n",
            "Use 'apt autoremove' to remove it.\n",
            "The following additional packages will be installed:\n",
            "  javascript-common libjs-jquery python-asn1crypto python-blinker\n",
            "  python-cffi-backend python-click python-colorama python-cryptography\n",
            "  python-enum34 python-flask python-idna python-ipaddress python-itsdangerous\n",
            "  python-jinja2 python-markupsafe python-openslide-examples python-openssl\n",
            "  python-pkg-resources python-pyinotify python-simplejson python-six\n",
            "  python-werkzeug python3-olefile python3-pil\n",
            "Suggested packages:\n",
            "  apache2 | lighttpd | httpd python-blinker-doc python-cryptography-doc\n",
            "  python-cryptography-vectors python-enum34-doc python-flask-doc\n",
            "  python-jinja2-doc python-openssl-doc python-openssl-dbg python-setuptools\n",
            "  python-pyinotify-doc ipython python-genshi python-lxml python-greenlet\n",
            "  python-redis python-pylibmc | python-memcache python-termcolor\n",
            "  python-watchdog python-werkzeug-doc python-pil-doc python3-pil-dbg\n",
            "The following NEW packages will be installed:\n",
            "  javascript-common libjs-jquery python-asn1crypto python-blinker\n",
            "  python-cffi-backend python-click python-colorama python-cryptography\n",
            "  python-enum34 python-flask python-idna python-ipaddress python-itsdangerous\n",
            "  python-jinja2 python-markupsafe python-openslide-examples python-openssl\n",
            "  python-pkg-resources python-pyinotify python-simplejson python-six\n",
            "  python-werkzeug python3-olefile python3-openslide python3-pil\n",
            "0 upgraded, 25 newly installed, 0 to remove and 35 not upgraded.\n",
            "Need to get 1,861 kB of archives.\n",
            "After this operation, 9,283 kB of additional disk space will be used.\n",
            "Get:1 http://archive.ubuntu.com/ubuntu bionic/main amd64 javascript-common all 11 [6,066 B]\n",
            "Get:2 http://archive.ubuntu.com/ubuntu bionic/main amd64 libjs-jquery all 3.2.1-1 [152 kB]\n",
            "Get:3 http://archive.ubuntu.com/ubuntu bionic/main amd64 python-asn1crypto all 0.24.0-1 [72.7 kB]\n",
            "Get:4 http://archive.ubuntu.com/ubuntu bionic/main amd64 python-blinker all 1.4+dfsg1-0.1 [13.0 kB]\n",
            "Get:5 http://archive.ubuntu.com/ubuntu bionic/main amd64 python-cffi-backend amd64 1.11.5-1 [63.4 kB]\n",
            "Get:6 http://archive.ubuntu.com/ubuntu bionic/main amd64 python-colorama all 0.3.7-1 [22.6 kB]\n",
            "Get:7 http://archive.ubuntu.com/ubuntu bionic/main amd64 python-click all 6.7-3 [56.4 kB]\n",
            "Get:8 http://archive.ubuntu.com/ubuntu bionic/main amd64 python-enum34 all 1.1.6-2 [34.8 kB]\n",
            "Get:9 http://archive.ubuntu.com/ubuntu bionic/main amd64 python-idna all 2.6-1 [32.4 kB]\n",
            "Get:10 http://archive.ubuntu.com/ubuntu bionic/main amd64 python-ipaddress all 1.0.17-1 [18.2 kB]\n",
            "Get:11 http://archive.ubuntu.com/ubuntu bionic/main amd64 python-six all 1.11.0-2 [11.3 kB]\n",
            "Get:12 http://archive.ubuntu.com/ubuntu bionic-updates/main amd64 python-cryptography amd64 2.1.4-1ubuntu1.3 [221 kB]\n",
            "Get:13 http://archive.ubuntu.com/ubuntu bionic/main amd64 python-itsdangerous all 0.24+dfsg1-2 [11.9 kB]\n",
            "Get:14 http://archive.ubuntu.com/ubuntu bionic/main amd64 python-markupsafe amd64 1.0-1build1 [13.0 kB]\n",
            "Get:15 http://archive.ubuntu.com/ubuntu bionic-updates/main amd64 python-jinja2 all 2.10-1ubuntu0.18.04.1 [94.8 kB]\n",
            "Get:16 http://archive.ubuntu.com/ubuntu bionic/main amd64 python-werkzeug all 0.14.1+dfsg1-1 [174 kB]\n",
            "Get:17 http://archive.ubuntu.com/ubuntu bionic-updates/main amd64 python-flask all 0.12.2-3ubuntu0.1 [62.4 kB]\n",
            "Ign:18 http://archive.ubuntu.com/ubuntu bionic-updates/main amd64 python3-pil amd64 5.1.0-1ubuntu0.2\n",
            "Get:19 http://archive.ubuntu.com/ubuntu bionic/universe amd64 python3-openslide amd64 1.1.1-2ubuntu4 [16.1 kB]\n",
            "Get:20 http://archive.ubuntu.com/ubuntu bionic/universe amd64 python-openslide-examples all 1.1.1-2ubuntu4 [168 kB]\n",
            "Get:21 http://archive.ubuntu.com/ubuntu bionic/main amd64 python-openssl all 17.5.0-1ubuntu1 [41.3 kB]\n",
            "Get:22 http://archive.ubuntu.com/ubuntu bionic/main amd64 python-pkg-resources all 39.0.1-2 [128 kB]\n",
            "Get:23 http://archive.ubuntu.com/ubuntu bionic/main amd64 python-pyinotify all 0.9.6-1 [24.6 kB]\n",
            "Get:24 http://archive.ubuntu.com/ubuntu bionic/main amd64 python-simplejson amd64 3.13.2-1 [61.2 kB]\n",
            "Get:25 http://archive.ubuntu.com/ubuntu bionic/main amd64 python3-olefile all 0.45.1-1 [33.3 kB]\n",
            "Err:18 http://security.ubuntu.com/ubuntu bionic-updates/main amd64 python3-pil amd64 5.1.0-1ubuntu0.2\n",
            "  404  Not Found [IP: 91.189.88.152 80]\n",
            "Fetched 1,532 kB in 3s (587 kB/s)\n",
            "E: Failed to fetch http://security.ubuntu.com/ubuntu/pool/main/p/pillow/python3-pil_5.1.0-1ubuntu0.2_amd64.deb  404  Not Found [IP: 91.189.88.152 80]\n",
            "E: Unable to fetch some archives, maybe run apt-get update or try with --fix-missing?\n",
            "Reading package lists... Done\n",
            "Building dependency tree       \n",
            "Reading state information... Done\n",
            "imagemagick is already the newest version (8:6.9.7.4+dfsg-16ubuntu6.8).\n",
            "The following package was automatically installed and is no longer required:\n",
            "  libnvidia-common-440\n",
            "Use 'apt autoremove' to remove it.\n",
            "0 upgraded, 0 newly installed, 0 to remove and 35 not upgraded.\n"
          ],
          "name": "stdout"
        }
      ]
    },
    {
      "cell_type": "code",
      "metadata": {
        "id": "H2Si2jgNcMNJ",
        "colab_type": "code",
        "colab": {
          "base_uri": "https://localhost:8080/",
          "height": 84
        },
        "outputId": "4a85d7cd-782f-4c08-a773-be789dcab1a7"
      },
      "source": [
        "!pip install openslide-python\n",
        "\n"
      ],
      "execution_count": 2,
      "outputs": [
        {
          "output_type": "stream",
          "text": [
            "Collecting openslide-python\n",
            "\u001b[?25l  Downloading https://files.pythonhosted.org/packages/26/5a/5b0adeabce81f018a9e4ffe9a419536064bc95c1b12194aff9b7e48f91f7/openslide-python-1.1.1.tar.gz (312kB)\n",
            "\u001b[K     |████████████████████████████████| 317kB 2.7MB/s \n",
            "\u001b[31mERROR: Command errored out with exit status 1: python setup.py egg_info Check the logs for full command output.\u001b[0m\n",
            "\u001b[?25h"
          ],
          "name": "stdout"
        }
      ]
    },
    {
      "cell_type": "code",
      "metadata": {
        "id": "PXPx1fJ3hCUk",
        "colab_type": "code",
        "colab": {
          "base_uri": "https://localhost:8080/",
          "height": 313
        },
        "outputId": "0f4edfa3-4360-4cfa-a72b-696c2b465dff"
      },
      "source": [
        "import Openslide as op\n",
        "from Openslide import OpenSlide "
      ],
      "execution_count": 4,
      "outputs": [
        {
          "output_type": "error",
          "ename": "ModuleNotFoundError",
          "evalue": "ignored",
          "traceback": [
            "\u001b[0;31m---------------------------------------------------------------------------\u001b[0m",
            "\u001b[0;31mModuleNotFoundError\u001b[0m                       Traceback (most recent call last)",
            "\u001b[0;32m<ipython-input-4-28472703e712>\u001b[0m in \u001b[0;36m<module>\u001b[0;34m()\u001b[0m\n\u001b[0;32m----> 1\u001b[0;31m \u001b[0;32mimport\u001b[0m \u001b[0mOpenslide\u001b[0m \u001b[0;32mas\u001b[0m \u001b[0mop\u001b[0m\u001b[0;34m\u001b[0m\u001b[0;34m\u001b[0m\u001b[0m\n\u001b[0m\u001b[1;32m      2\u001b[0m \u001b[0;32mfrom\u001b[0m \u001b[0mOpenslide\u001b[0m \u001b[0;32mimport\u001b[0m \u001b[0mOpenSlide\u001b[0m\u001b[0;34m\u001b[0m\u001b[0;34m\u001b[0m\u001b[0m\n",
            "\u001b[0;31mModuleNotFoundError\u001b[0m: No module named 'Openslide'",
            "",
            "\u001b[0;31m---------------------------------------------------------------------------\u001b[0;32m\nNOTE: If your import is failing due to a missing package, you can\nmanually install dependencies using either !pip or !apt.\n\nTo view examples of installing some common dependencies, click the\n\"Open Examples\" button below.\n\u001b[0;31m---------------------------------------------------------------------------\u001b[0m\n"
          ]
        }
      ]
    },
    {
      "cell_type": "code",
      "metadata": {
        "id": "skf3upkEgrFr",
        "colab_type": "code",
        "colab": {}
      },
      "source": [
        "slide = OpenSlide('/Tumor_Slides_Patches_Project/Data Set/f33a4a17-6628-482c-8c70-b8893d56802f/TCGA-OL-A5S0-01Z-00-DX1.49A7AC9D-C186-406C-BA67-2D73DE82E13B.svs')\n",
        "co = 1\n",
        "for i in range(0,slide.dimensions[0],250):\n",
        "  for j in range(0,slide.dimensions[1],250):\n",
        "    a = slide.read_region((i,j),0,(250,250))\n",
        "    a = a.convert(\"RGB\")\n",
        "    black = 0\n",
        "    white = 0\n",
        "    for pixel in a.getdata():\n",
        "      if pixel == (0, 0, 0):\n",
        "        black += 1\n",
        "      elif pixel[0]>240 or pixel[1]>240 or pixel[2]>240:\n",
        "        white += 1\n",
        "    s = black+white     \n",
        "    if (s<3000):  \n",
        "      path ='/content/drive/My Drive/Tumor_Slides_Patches_Project/Test_Images/tmp'+str(co)+'.jpg'\n",
        "      a.save(path)\n",
        "      co = co+1\n",
        "print(co)\n"
      ],
      "execution_count": null,
      "outputs": []
    },
    {
      "cell_type": "code",
      "metadata": {
        "id": "SIf7pQpfXNBH",
        "colab_type": "code",
        "colab": {
          "base_uri": "https://localhost:8080/",
          "height": 121
        },
        "outputId": "cef47caa-a9b6-4718-c36c-8907e9c6b6df"
      },
      "source": [
        "from google.colab import drive\n",
        "drive.mount('/content/drive')"
      ],
      "execution_count": null,
      "outputs": [
        {
          "output_type": "stream",
          "text": [
            "Go to this URL in a browser: https://accounts.google.com/o/oauth2/auth?client_id=947318989803-6bn6qk8qdgf4n4g3pfee6491hc0brc4i.apps.googleusercontent.com&redirect_uri=urn%3aietf%3awg%3aoauth%3a2.0%3aoob&response_type=code&scope=email%20https%3a%2f%2fwww.googleapis.com%2fauth%2fdocs.test%20https%3a%2f%2fwww.googleapis.com%2fauth%2fdrive%20https%3a%2f%2fwww.googleapis.com%2fauth%2fdrive.photos.readonly%20https%3a%2f%2fwww.googleapis.com%2fauth%2fpeopleapi.readonly\n",
            "\n",
            "Enter your authorization code:\n",
            "··········\n",
            "Mounted at /content/drive\n"
          ],
          "name": "stdout"
        }
      ]
    },
    {
      "cell_type": "code",
      "metadata": {
        "id": "xHYL2m0XtkVM",
        "colab_type": "code",
        "colab": {
          "base_uri": "https://localhost:8080/",
          "height": 246
        },
        "outputId": "941fc6d8-78e5-4290-c713-669b8cbf54a4"
      },
      "source": [
        "slide_2 = OpenSlide('/content/drive/My Drive/Tumor_Slides_Patches_Project/Data Set/f33a4a17-6628-482c-8c70-b8893d56802f/TCGA-OL-A5S0-01Z-00-DX1.49A7AC9D-C186-406C-BA67-2D73DE82E13B.svs')\n",
        "co = 1\n",
        "for i in range(0,slide_2.dimensions[0],250):\n",
        "  for j in range(0,slide_2.dimensions[1],250):\n",
        "    a = slide_2.read_region((i,j),0,(250,250))\n",
        "    a = a.convert(\"RGB\")\n",
        "    black = 0\n",
        "    white = 0\n",
        "    for pixel in a.getdata():\n",
        "      if pixel == (0, 0, 0):\n",
        "        black += 1\n",
        "      elif pixel[0]>240 or pixel[1]>240 or pixel[2]>240:\n",
        "        white += 1\n",
        "    s = black+white     \n",
        "    if (s<8000):  \n",
        "      path ='/content/drive/My Drive/Tumor_Slides_Patches_Project/Extracted_Patches/TCGA-OL-A5S0-01Z-00-DX1.49A7AC9D-C186-406C-BA67-2D73DE82E13B/Patch-'+str(co)+'.jpg'\n",
        "      a.save(path)\n",
        "      co = co+1\n",
        "print(co)"
      ],
      "execution_count": null,
      "outputs": [
        {
          "output_type": "error",
          "ename": "NameError",
          "evalue": "ignored",
          "traceback": [
            "\u001b[0;31m---------------------------------------------------------------------------\u001b[0m",
            "\u001b[0;31mNameError\u001b[0m                                 Traceback (most recent call last)",
            "\u001b[0;32m<ipython-input-10-6aa080f20653>\u001b[0m in \u001b[0;36m<module>\u001b[0;34m()\u001b[0m\n\u001b[0;32m----> 1\u001b[0;31m \u001b[0mslide_2\u001b[0m \u001b[0;34m=\u001b[0m \u001b[0mOpenSlide\u001b[0m\u001b[0;34m(\u001b[0m\u001b[0;34m'/content/drive/My Drive/Tumor_Slides_Patches_Project/Data Set/f33a4a17-6628-482c-8c70-b8893d56802f/TCGA-OL-A5S0-01Z-00-DX1.49A7AC9D-C186-406C-BA67-2D73DE82E13B.svs'\u001b[0m\u001b[0;34m)\u001b[0m\u001b[0;34m\u001b[0m\u001b[0;34m\u001b[0m\u001b[0m\n\u001b[0m\u001b[1;32m      2\u001b[0m \u001b[0mco\u001b[0m \u001b[0;34m=\u001b[0m \u001b[0;36m1\u001b[0m\u001b[0;34m\u001b[0m\u001b[0;34m\u001b[0m\u001b[0m\n\u001b[1;32m      3\u001b[0m \u001b[0;32mfor\u001b[0m \u001b[0mi\u001b[0m \u001b[0;32min\u001b[0m \u001b[0mrange\u001b[0m\u001b[0;34m(\u001b[0m\u001b[0;36m0\u001b[0m\u001b[0;34m,\u001b[0m\u001b[0mslide_2\u001b[0m\u001b[0;34m.\u001b[0m\u001b[0mdimensions\u001b[0m\u001b[0;34m[\u001b[0m\u001b[0;36m0\u001b[0m\u001b[0;34m]\u001b[0m\u001b[0;34m,\u001b[0m\u001b[0;36m250\u001b[0m\u001b[0;34m)\u001b[0m\u001b[0;34m:\u001b[0m\u001b[0;34m\u001b[0m\u001b[0;34m\u001b[0m\u001b[0m\n\u001b[1;32m      4\u001b[0m   \u001b[0;32mfor\u001b[0m \u001b[0mj\u001b[0m \u001b[0;32min\u001b[0m \u001b[0mrange\u001b[0m\u001b[0;34m(\u001b[0m\u001b[0;36m0\u001b[0m\u001b[0;34m,\u001b[0m\u001b[0mslide_2\u001b[0m\u001b[0;34m.\u001b[0m\u001b[0mdimensions\u001b[0m\u001b[0;34m[\u001b[0m\u001b[0;36m1\u001b[0m\u001b[0;34m]\u001b[0m\u001b[0;34m,\u001b[0m\u001b[0;36m250\u001b[0m\u001b[0;34m)\u001b[0m\u001b[0;34m:\u001b[0m\u001b[0;34m\u001b[0m\u001b[0;34m\u001b[0m\u001b[0m\n\u001b[1;32m      5\u001b[0m     \u001b[0ma\u001b[0m \u001b[0;34m=\u001b[0m \u001b[0mslide_2\u001b[0m\u001b[0;34m.\u001b[0m\u001b[0mread_region\u001b[0m\u001b[0;34m(\u001b[0m\u001b[0;34m(\u001b[0m\u001b[0mi\u001b[0m\u001b[0;34m,\u001b[0m\u001b[0mj\u001b[0m\u001b[0;34m)\u001b[0m\u001b[0;34m,\u001b[0m\u001b[0;36m0\u001b[0m\u001b[0;34m,\u001b[0m\u001b[0;34m(\u001b[0m\u001b[0;36m250\u001b[0m\u001b[0;34m,\u001b[0m\u001b[0;36m250\u001b[0m\u001b[0;34m)\u001b[0m\u001b[0;34m)\u001b[0m\u001b[0;34m\u001b[0m\u001b[0;34m\u001b[0m\u001b[0m\n",
            "\u001b[0;31mNameError\u001b[0m: name 'OpenSlide' is not defined"
          ]
        }
      ]
    },
    {
      "cell_type": "code",
      "metadata": {
        "id": "XfZ4jlym7QIq",
        "colab_type": "code",
        "colab": {}
      },
      "source": [
        "slide_2 = OpenSlide('/content/drive/My Drive/Tumor_Slides_Patches_Project/Data Set/f3bfcf56-a562-4e6d-877c-e2e03ad7bbd3/TCGA-AR-A1AP-01A-01-TSA.462d1ac8-1c00-4690-9d0e-975853c4c5f2.svs')\n",
        "co = 1\n",
        "for i in range(0,slide_2.dimensions[0],250):\n",
        "  for j in range(0,slide_2.dimensions[1],250):\n",
        "    a = slide_2.read_region((i,j),0,(250,250))\n",
        "    a = a.convert(\"RGB\")\n",
        "    black = 0\n",
        "    white = 0\n",
        "    for pixel in a.getdata():\n",
        "      if pixel == (0, 0, 0):\n",
        "        black += 1\n",
        "      elif pixel[0]>230 or pixel[1]>230 or pixel[2]>230:\n",
        "        white += 1\n",
        "    s = black+white     \n",
        "    if (s<3000):  \n",
        "      path ='/content/drive/My Drive/Tumor_Slides_Patches_Project/Extracted_Patches/TCGA-AR-A1AP-01A-01-TSA.462d1ac8-1c00-4690-9d0e-975853c4c5f2/Patch-'+str(co)+'.jpg'\n",
        "      a.save(path)\n",
        "      co = co+1\n",
        "print(co-1)"
      ],
      "execution_count": null,
      "outputs": []
    },
    {
      "cell_type": "code",
      "metadata": {
        "colab_type": "code",
        "id": "XRqphmdX8EAM",
        "colab": {}
      },
      "source": [
        "slide_2 = OpenSlide('/content/drive/My Drive/Tumor_Slides_Patches_Project/Data Set/ee4ba840-165d-49b0-8ae2-2840c71f7292/TCGA-B6-A3ZX-01A-01-TS1.68F70986-83F0-4B65-AFF5-496B0C60270F.svs')\n",
        "co = 1\n",
        "for i in range(0,slide_2.dimensions[0],250):\n",
        "  for j in range(0,slide_2.dimensions[1],250):\n",
        "    a = slide_2.read_region((i,j),0,(250,250))\n",
        "    a = a.convert(\"RGB\")\n",
        "    black = 0\n",
        "    white = 0\n",
        "    for pixel in a.getdata():\n",
        "      if pixel == (0, 0, 0):\n",
        "        black += 1\n",
        "      elif pixel[0]>230 or pixel[1]>230 or pixel[2]>230:\n",
        "        white += 1\n",
        "    s = black+white     \n",
        "    if (s<4000 and white<2000):  \n",
        "      path ='/content/drive/My Drive/Tumor_Slides_Patches_Project/Extracted_Patches/TCGA-B6-A3ZX-01A-01-TS1.68F70986-83F0-4B65-AFF5-496B0C60270F/Patch-'+str(co)+'.jpg'\n",
        "      a.save(path)\n",
        "      co = co+1\n",
        "print(co-1)"
      ],
      "execution_count": null,
      "outputs": []
    },
    {
      "cell_type": "code",
      "metadata": {
        "id": "d4APYSqLEvS8",
        "colab_type": "code",
        "colab": {}
      },
      "source": [
        "slide_2 = OpenSlide('/content/drive/My Drive/Tumor_Slides_Patches_Project/Data Set/ed4d0df3-ebd1-4f67-a461-94f6a11b3174/TCGA-E2-A1B5-11A-02-TS2.0e6a0f0c-7760-44c4-a558-a6905b5a9267.svs')\n",
        "co = 1\n",
        "for i in range(0,slide_2.dimensions[0],250):\n",
        "  for j in range(0,slide_2.dimensions[1],250):\n",
        "    a = slide_2.read_region((i,j),0,(250,250))\n",
        "    a = a.convert(\"RGB\")\n",
        "    black = 0\n",
        "    white = 0\n",
        "    for pixel in a.getdata():\n",
        "      if pixel == (0, 0, 0):\n",
        "        black += 1\n",
        "      elif pixel[0]>230 or pixel[1]>230 or pixel[2]>230:\n",
        "        white += 1\n",
        "    s = black+white     \n",
        "    if (s<3000):  \n",
        "      path ='/content/drive/My Drive/Tumor_Slides_Patches_Project/Extracted_Patches/TCGA-E2-A1B5-11A-02-TS2.0e6a0f0c-7760-44c4-a558-a6905b5a9267/Patch-'+str(co)+'.jpg'\n",
        "      a.save(path)\n",
        "      co = co+1\n",
        "print(co-1)"
      ],
      "execution_count": null,
      "outputs": []
    },
    {
      "cell_type": "code",
      "metadata": {
        "id": "xACiL-zCFepC",
        "colab_type": "code",
        "colab": {}
      },
      "source": [
        "slide_2 = OpenSlide('/content/drive/My Drive/Tumor_Slides_Patches_Project/Data Set/ebaee030-6404-4ce2-9bc3-4f14d1623708/TCGA-A7-A4SD-11A-02-TS2.814EF719-45A4-434E-AF3F-146AB8ED391C.svs')\n",
        "co = 1\n",
        "for i in range(0,slide_2.dimensions[0],250):\n",
        "  for j in range(0,slide_2.dimensions[1],250):\n",
        "    a = slide_2.read_region((i,j),0,(250,250))\n",
        "    a = a.convert(\"RGB\")\n",
        "    black = 0\n",
        "    white = 0\n",
        "    for pixel in a.getdata():\n",
        "      if pixel == (0, 0, 0):\n",
        "        black += 1\n",
        "      elif pixel[0]>230 or pixel[1]>230 or pixel[2]>230:\n",
        "        white += 1\n",
        "    s = black+white     \n",
        "    if (s<3000):  \n",
        "      path ='/content/drive/My Drive/Tumor_Slides_Patches_Project/Extracted_Patches/TCGA-A7-A4SD-11A-02-TS2.814EF719-45A4-434E-AF3F-146AB8ED391C/Patch-'+str(co)+'.jpg'\n",
        "      a.save(path)\n",
        "      co = co+1\n",
        "print(co-1)"
      ],
      "execution_count": null,
      "outputs": []
    },
    {
      "cell_type": "code",
      "metadata": {
        "id": "m1VePTOsGXXO",
        "colab_type": "code",
        "colab": {}
      },
      "source": [
        "slide_2 = OpenSlide('/content/drive/My Drive/Tumor_Slides_Patches_Project/Data Set/e6d36213-3e51-4a1d-89d3-87cdeed2a832/TCGA-OL-A5RW-01Z-00-DX1.E16DE8EE-31AF-4EAF-A85F-DB3E3E2C3BFF.svs')\n",
        "co = 1\n",
        "for i in range(0,slide_2.dimensions[0],250):\n",
        "  for j in range(0,slide_2.dimensions[1],250):\n",
        "    a = slide_2.read_region((i,j),0,(250,250))\n",
        "    a = a.convert(\"RGB\")\n",
        "    black = 0\n",
        "    white = 0\n",
        "    for pixel in a.getdata():\n",
        "      if pixel == (0, 0, 0):\n",
        "        black += 1\n",
        "      elif pixel[0]>230 or pixel[1]>230 or pixel[2]>230:\n",
        "        white += 1\n",
        "    s = black+white     \n",
        "    if (s<3000):  \n",
        "      path ='/content/drive/My Drive/Tumor_Slides_Patches_Project/Extracted_Patches/TCGA-OL-A5RW-01Z-00-DX1.E16DE8EE-31AF-4EAF-A85F-DB3E3E2C3BFF/Patch-'+str(co)+'.jpg'\n",
        "      a.save(path)\n",
        "      co = co+1\n",
        "print(co-1)"
      ],
      "execution_count": null,
      "outputs": []
    },
    {
      "cell_type": "code",
      "metadata": {
        "id": "NuPNBGZ2GiIV",
        "colab_type": "code",
        "colab": {}
      },
      "source": [
        "slide_2 = OpenSlide('/content/drive/My Drive/Tumor_Slides_Patches_Project/Data Set/e5649b7d-be4b-4c9b-989f-e84d97bd44db/TCGA-BH-A5IZ-11A-01-TS1.9345C1EC-2A27-49F1-AE61-7B056A982A34.svs')\n",
        "co = 1\n",
        "for i in range(0,slide_2.dimensions[0],250):\n",
        "  for j in range(0,slide_2.dimensions[1],250):\n",
        "    a = slide_2.read_region((i,j),0,(250,250))\n",
        "    a = a.convert(\"RGB\")\n",
        "    black = 0\n",
        "    white = 0\n",
        "    for pixel in a.getdata():\n",
        "      if pixel == (0, 0, 0):\n",
        "        black += 1\n",
        "      elif pixel[0]>230 or pixel[1]>230 or pixel[2]>230:\n",
        "        white += 1\n",
        "    s = black+white     \n",
        "    if (s<3000):  \n",
        "      path ='/content/drive/My Drive/Tumor_Slides_Patches_Project/Extracted_Patches/TCGA-BH-A5IZ-11A-01-TS1.9345C1EC-2A27-49F1-AE61-7B056A982A34/Patch-'+str(co)+'.jpg'\n",
        "      a.save(path)\n",
        "      co = co+1\n",
        "print(co-1)"
      ],
      "execution_count": null,
      "outputs": []
    }
  ]
}